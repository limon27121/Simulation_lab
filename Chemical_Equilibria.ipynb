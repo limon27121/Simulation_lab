{
  "nbformat": 4,
  "nbformat_minor": 0,
  "metadata": {
    "colab": {
      "provenance": []
    },
    "kernelspec": {
      "name": "python3",
      "display_name": "Python 3"
    },
    "language_info": {
      "name": "python"
    }
  },
  "cells": [
    {
      "cell_type": "code",
      "execution_count": null,
      "metadata": {
        "id": "UI_PETue2nun"
      },
      "outputs": [],
      "source": [
        "import matplotlib.pyplot as plt\n",
        "\n",
        "k_f=0.025\n",
        "k_b=0.01\n",
        "c1=[50]\n",
        "c2=[25]\n",
        "c3=[0]\n",
        "delta_t=0.1\n",
        "time=0\n",
        "times=[0]\n",
        "\n",
        "while time<5:\n",
        "  new_c1=c1[-1]+k_b*c3[-1]-k_f*c1[-1]*c2[-1]*delta_t\n",
        "  new_c2=c2[-1]+k_b*c3[-1]-k_f*c1[-1]*c2[-1]*delta_t\n",
        "  new_c3=c3[-1]+(2*k_f*c1[-1]*c2[-1]-2*k_b*c3[-1])*delta_t\n",
        "\n",
        "  c1.append(new_c1)\n",
        "  c2.append(new_c2)\n",
        "  c3.append(new_c3)\n",
        "  time+=delta_t\n",
        "  times.append(time)\n",
        "\n",
        "plt.plot(times,c1)\n",
        "plt.plot(times,c2)\n",
        "plt.plot(times,c3)\n",
        "\n",
        "\n"
      ]
    }
  ]
}