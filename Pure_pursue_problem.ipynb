{
  "nbformat": 4,
  "nbformat_minor": 0,
  "metadata": {
    "colab": {
      "provenance": []
    },
    "kernelspec": {
      "name": "python3",
      "display_name": "Python 3"
    },
    "language_info": {
      "name": "python"
    }
  },
  "cells": [
    {
      "cell_type": "code",
      "execution_count": null,
      "metadata": {
        "id": "UI_PETue2nun"
      },
      "outputs": [],
      "source": []
    },
    {
      "cell_type": "markdown",
      "source": [
        "x_t= target x\n",
        "Y_t=target y\n",
        "x_d= defender/attacker x\n",
        "y_d= defender/attacker y\n",
        "i=(x_t[time]-x_d[time])/dist[time])\n",
        "j=(y_t[time]-y_d[time])/dist[time])\n",
        "x_d=x_d[time]+speed*i\n",
        "y_d=y_d[time]+speed*j"
      ],
      "metadata": {
        "id": "byuQZc7ciO2w"
      }
    },
    {
      "cell_type": "markdown",
      "source": [],
      "metadata": {
        "id": "k56JwukoiL1h"
      }
    },
    {
      "cell_type": "code",
      "source": [
        "import matplotlib.pyplot as plt\n",
        "import math\n",
        "\n",
        "x_t=[100,110,120,129,140,149,158,168,179,188,198,209,219,226,234,240]\n",
        "y_t=[0,3,6,10,15,20,26,32,37,34,30,27,23,19,16,14]\n",
        "\n",
        "plt.plot(x_t,y_t,color=\"red\")\n",
        "x_d=[0]\n",
        "y_d=[60]\n",
        "speed=20\n",
        "time=0\n",
        "\n",
        "def distance(x1,y1,x2,y2):\n",
        "  return math.sqrt((x1-x2)**2+(y1-y2)**2)\n",
        "\n",
        "while time<12:\n",
        "  dist=distance(x_t[time],y_t[time],x_d[time],y_d[time])\n",
        "  if dist<10:\n",
        "    print(\"boom at= \",time)\n",
        "    break\n",
        "  \n",
        "  i=(x_t[time]-x_d[time])/dist\n",
        "  j=(y_t[time]-y_d[time])/dist\n",
        "\n",
        "  x_d_new=x_d[time]+speed*i\n",
        "  y_d_new=y_d[time]+speed*j\n",
        "  x_d.append(x_d_new)\n",
        "  y_d.append(y_d_new)\n",
        "  time+=1\n",
        "\n",
        "plt.plot(x_d,y_d,color=\"green\")\n",
        "plt.xlabel(\"x axis\")\n",
        "plt.ylabel(\"y axis\")\n",
        "plt.title(\"path of 2 objects\")"
      ],
      "metadata": {
        "colab": {
          "base_uri": "https://localhost:8080/",
          "height": 330
        },
        "id": "qG2-nir2jnPY",
        "outputId": "da65dcd1-5792-4b94-e5a4-16ba89cc47e0"
      },
      "execution_count": 5,
      "outputs": [
        {
          "output_type": "stream",
          "name": "stdout",
          "text": [
            "boom at=  10\n"
          ]
        },
        {
          "output_type": "execute_result",
          "data": {
            "text/plain": [
              "Text(0.5, 1.0, 'path of 2 objects')"
            ]
          },
          "metadata": {},
          "execution_count": 5
        },
        {
          "output_type": "display_data",
          "data": {
            "text/plain": [
              "<Figure size 432x288 with 1 Axes>"
            ],
            "image/png": "[encoded data removed]"
          },
          "metadata": {
            "needs_background": "light"
          }
        }
      ]
    },
    {
      "cell_type": "markdown",
      "source": [
        "four object problem"
      ],
      "metadata": {
        "id": "y2RcC5A9sIN9"
      }
    },
    {
      "cell_type": "code",
      "source": [
        "# Since simulating with 1 hour passing in each steps causes inaccuracies in \n",
        "# simulation, we convert all kilometers to meters and all hours to seconds\n",
        "\n",
        "v_a = 35 * 1000 / 3600\n",
        "v_b = 25 * 1000 / 3600\n",
        "v_c = 15 * 1000 / 3600\n",
        "v_d = 10 * 1000 / 3600\n",
        "\n",
        "x_a = [10000]\n",
        "y_a = [10000]\n",
        "x_b = [30000]\n",
        "y_b = [10000]\n",
        "x_c = [30000]\n",
        "y_c = [30000]\n",
        "x_d = [10000]\n",
        "y_d = [10000]\n",
        "import numpy as np\n",
        "\n",
        "def distance(x1, y1, x2, y2):\n",
        "  return np.sqrt((x1 - x2)**2 + (y1 - y2)**2)\n",
        "time = 0    # time elapsed\n",
        "\n",
        "while time < 20000: \n",
        "  x_d_new = x_d[time] + v_d\n",
        "  y_d_new = y_d[time]\n",
        "\n",
        "  x_d.append(x_d_new)\n",
        "  y_d.append(y_d_new)\n",
        "\n",
        "  dist_cd = distance(x_d[time], y_d[time], x_c[time], y_c[time])\n",
        "  if (dist_cd < 5):\n",
        "    print(\"C & D collides at time\", time)\n",
        "    break\n",
        "\n",
        "  i = (x_d[time] - x_c[time]) / dist_cd\n",
        "  j = (y_d[time] - y_c[time]) / dist_cd\n",
        "\n",
        "  x_c_new = x_c[time] + v_c * i\n",
        "  y_c_new = y_c[time] + v_c * j\n",
        "  \n",
        "  x_c.append(x_c_new)\n",
        "  y_c.append(y_c_new)\n",
        "\n",
        "  dist_bc = distance(x_c[time], y_c[time], x_b[time], y_b[time])\n",
        "  if (dist_bc < 5):\n",
        "    print(\"B & C collides at time\", time)\n",
        "    break\n",
        "\n",
        "  i = (x_c[time] - x_b[time]) / dist_bc\n",
        "  j = (y_c[time] - y_b[time]) / dist_bc\n",
        "\n",
        "  x_b_new = x_b[time] + v_b * i\n",
        "  y_b_new = y_b[time] + v_b * j\n",
        "  \n",
        "  x_b.append(x_b_new)\n",
        "  y_b.append(y_b_new)\n",
        "\n",
        "  dist_ab = distance(x_b[time], y_b[time], x_a[time], y_a[time])\n",
        "  if (dist_ab < 5):\n",
        "    print(\"A & B collides at time\", time)\n",
        "    break\n",
        "\n",
        "  i = (x_b[time] - x_a[time]) / dist_ab\n",
        "  j = (y_b[time] - y_a[time]) / dist_ab\n",
        "\n",
        "  x_a_new = x_a[time] + v_a * i\n",
        "  y_a_new = y_a[time] + v_a * j\n",
        "  \n",
        "  x_a.append(x_a_new)\n",
        "  y_a.append(y_a_new)\n",
        "\n",
        "  time += 1\n",
        "import matplotlib.pyplot as plt\n",
        "plt.title(\"Trajectory of the four objects\")\n",
        "plt.xlabel(\"x-coordinate\")\n",
        "plt.ylabel(\"y-coordinate\")\n",
        "#plt.xlim(20000, 30000)\n",
        "#plt.ylim(15000, 30000)\n",
        "plt.plot(x_d, y_d, 'r-+', label='D')\n",
        "plt.plot(x_c, y_c, 'b-+', label='C')\n",
        "plt.plot(x_b, y_b, 'g-+', label='B')\n",
        "plt.plot(x_a, y_b, 'y-+', label='A')\n",
        "plt.legend()"
      ],
      "metadata": {
        "colab": {
          "base_uri": "https://localhost:8080/",
          "height": 330
        },
        "id": "KFNchRkesETO",
        "outputId": "14df9b28-8dd1-4218-9746-13e34fd301b5"
      },
      "execution_count": 6,
      "outputs": [
        {
          "output_type": "stream",
          "name": "stdout",
          "text": [
            "B & C collides at time 2391\n"
          ]
        },
        {
          "output_type": "execute_result",
          "data": {
            "text/plain": [
              "<matplotlib.legend.Legend at 0x7faf09feb850>"
            ]
          },
          "metadata": {},
          "execution_count": 6
        },
        {
          "output_type": "display_data",
          "data": {
            "text/plain": [
              "<Figure size 432x288 with 1 Axes>"
            ],
            "image/png": "[encoded data removed]"
          },
          "metadata": {
            "needs_background": "light"
          }
        }
      ]
    }
  ]
}