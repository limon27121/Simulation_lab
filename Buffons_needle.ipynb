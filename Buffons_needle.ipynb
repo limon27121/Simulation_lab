{
  "nbformat": 4,
  "nbformat_minor": 0,
  "metadata": {
    "colab": {
      "provenance": []
    },
    "kernelspec": {
      "name": "python3",
      "display_name": "Python 3"
    },
    "language_info": {
      "name": "python"
    }
  },
  "cells": [
    {
      "cell_type": "code",
      "execution_count": null,
      "metadata": {
        "id": "UI_PETue2nun"
      },
      "outputs": [],
      "source": [
        "import random\n",
        "import math\n",
        "import matplotlib.pyplot as plt\n",
        "\n",
        "random.seed(420)\n",
        "#number of needle\n",
        "N=100000\n",
        "hit=0\n",
        "hit_d=[]\n",
        "hit_theta=[]\n",
        "miss_d=[]\n",
        "miss_theta=[]\n",
        "\n",
        "for i in range(1,N+1):\n",
        "  #distance between line \n",
        "  d=random.uniform(0,1)\n",
        "  #find theta\n",
        "  theta=random.uniform(0,math.pi/2)\n",
        "  #hit condition\n",
        "  if(d< (1/2*math.sin(theta))):\n",
        "    hit+=1\n",
        "    hit_d.append(d)\n",
        "    hit_theta.append(theta)\n",
        "\n",
        "    #miss\n",
        "  else:\n",
        "    miss_d.append(d)\n",
        "    miss_theta.append(theta)\n",
        "\n",
        "  est_pi=N/hit\n",
        "\n",
        "print(est_pi)\n",
        "plt.scatter(hit_theta,hit_d,color=\"red\")\n",
        "plt.scatter(miss_theta,miss_d,color=\"green\")"
      ]
    }
  ]
}