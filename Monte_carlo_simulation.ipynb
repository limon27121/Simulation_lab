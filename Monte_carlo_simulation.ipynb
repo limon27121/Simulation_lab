{
  "nbformat": 4,
  "nbformat_minor": 0,
  "metadata": {
    "colab": {
      "provenance": []
    },
    "kernelspec": {
      "name": "python3",
      "display_name": "Python 3"
    },
    "language_info": {
      "name": "python"
    }
  },
  "cells": [
    {
      "cell_type": "markdown",
      "source": [
        "Finding area using monte carlo"
      ],
      "metadata": {
        "id": "yNRK2AQpwr5n"
      }
    },
    {
      "cell_type": "markdown",
      "source": [
        "p(hit)=a(circle)/a(square)\n",
        "\n",
        "p(hit)=pi*r*r/4*r*r\n",
        "\n",
        "hit/trials=pi/4\n",
        "\n",
        "len=12\n",
        "width=16\n",
        "\n",
        "pi=(len*width/r*r)*(hits/trials)\n",
        "\n",
        "circle area=pi*(hits/trials)\n",
        "\n",
        "distance=√((x2 – x1)² + (y2 – y1)²)"
      ],
      "metadata": {
        "id": "yvvMkI8Mkfmp"
      }
    },
    {
      "cell_type": "code",
      "execution_count": null,
      "metadata": {
        "id": "NkqfcKGLwUDj"
      },
      "outputs": [],
      "source": [
        "import numpy as np\n",
        "import math\n",
        "import random\n",
        "import matplotlib.pyplot as plt\n",
        "length=12\n",
        "width=8\n",
        "radius=5\n",
        "trials=10000\n",
        "trials_x=[]\n",
        "trials_y=[]\n",
        "hits=0\n",
        "hits_x=[]\n",
        "hits_y=[]\n",
        "\n",
        "def distance(x,y,a,b):\n",
        "  return math.sqrt((x-a)**2 + (y-b)**2)\n",
        "\n",
        "\n",
        "for trial in range(trials):\n",
        "  x= random.uniform(-8,8)\n",
        "  trials_x.append(x)\n",
        "  y= random.uniform(-6,6)\n",
        "  trials_y.append(y)\n",
        "  if distance(x,y,3,1)<= radius:\n",
        "    hits+=1\n",
        "    hits_x.append(x)\n",
        "    hits_y.append(y)\n",
        "#value of pi\n",
        "circle_area=((length/width)/(radius*radius))*(hits/trials)\n",
        "print(\"dtermine circle area:\",circle_area)\n",
        "f=plt.figure()\n",
        "f.set_figwidth(5)\n",
        "f.set_figheight(5)\n",
        "plt.scatter(trials_x,trials_y,c=\"green\")\n",
        "plt.scatter(hits_x,hits_y,c=\"red\")"
      ]
    },
    {
      "cell_type": "markdown",
      "source": [
        "advance shape\n",
        "\n",
        "area= 6* hits/trials"
      ],
      "metadata": {
        "id": "LraNiabN8fca"
      }
    },
    {
      "cell_type": "code",
      "source": [
        "def area_of_triangle(x1,y1,x2,y2,x3,y3):\n",
        "  return abs(x1*y2+x2*y3+x3*y1-y1*x2-y2*x3-y3*x1)\n",
        "\n",
        "# main triangle er vitor triangle\n",
        "\n",
        "def intriangle(x,y,x1,y1,x2,y2,x3,y3):\n",
        "  return(area_of_triangle(x1,y1,x2,y2,x,y)+area_of_triangle(x2,y2,x,y,x3,y3)+area_of_triangle(x1,y1,x3,y3,x,y)==area_of_triangle(x1,y1,x2,y2,x3,y3))\n",
        "\n",
        "import random\n",
        "import matplotlib.pyplot as plt\n",
        "\n",
        "trials=10000\n",
        "trials_x=[]\n",
        "trials_y=[]\n",
        "hits=0\n",
        "hits_x=[]\n",
        "hits_y=[]\n",
        "\n",
        "# def distance(x,y,a,b):\n",
        "#   return math.sqrt((x-a)**2 + (y-b)**2)\n",
        "\n",
        "\n",
        "for trial in range(trials):\n",
        "  x= random.uniform(-8,8)\n",
        "  trials_x.append(x)\n",
        "  y= random.uniform(-6,6)\n",
        "  trials_y.append(y)\n",
        "  if intriangle(x,y,10,10,10,0,3,1):\n",
        "    hits+=1\n",
        "    hits_x.append(x)\n",
        "    hits_y.append(y)\n",
        "triangle_area=7.68*(hits/trials)\n",
        "print(\"dtermine triangle area:\",triangle_area)\n",
        "f=plt.figure()\n",
        "f.set_figwidth(5)\n",
        "f.set_figheight(5)\n",
        "plt.scatter(trials_x,trials_y,c=\"green\")\n",
        "plt.scatter(hits_x,hits_y,c=\"red\")"
      ],
      "metadata": {
        "id": "h3kyXei-8mXM",
        "colab": {
          "base_uri": "https://localhost:8080/",
          "height": 357
        },
        "outputId": "2a0cb73d-4ec9-40d5-d9ed-f474ff426c59"
      },
      "execution_count": 4,
      "outputs": [
        {
          "output_type": "stream",
          "name": "stdout",
          "text": [
            "dtermine triangle area: 0.5667840000000001\n"
          ]
        },
        {
          "output_type": "execute_result",
          "data": {
            "text/plain": [
              "<matplotlib.collections.PathCollection at 0x7f2df1716fd0>"
            ]
          },
          "metadata": {},
          "execution_count": 4
        },
        {
          "output_type": "display_data",
          "data": {
            "text/plain": [
              "<Figure size 360x360 with 1 Axes>"
            ],
            "image/png": "[encoded data removed]"
          },
          "metadata": {
            "needs_background": "light"
          }
        }
      ]
    },
    {
      "cell_type": "markdown",
      "source": [
        "finding integration using monte carlo "
      ],
      "metadata": {
        "id": "Tfvw7vbn5JCM"
      }
    },
    {
      "cell_type": "code",
      "source": [
        "import numpy as np\n",
        "import matplotlib.pyplot as plt\n",
        "import random\n",
        "import math\n",
        "\n",
        "\n",
        "random.seed(1)\n",
        "\n",
        "def f(x):\n",
        "  # return intrgration of sinx\n",
        "  return math.sin(x)\n",
        "trials=10000\n",
        "sum=0\n",
        "#here a=lower limit\n",
        "#b=uppper limit\n",
        "a=0\n",
        "b=math.pi/4\n",
        "x_s=[]\n",
        "y_s=[]\n",
        "\n",
        "for trial in range(trials):\n",
        "  x=random.uniform(a,b)\n",
        "  # y=x\n",
        "  y=f(x)\n",
        "  x_s.append(x)\n",
        "  y_s.append(y)\n",
        "  #divide area in small region then sum up of these region\n",
        "  sum=sum+y\n",
        "  sum_sqaure=sum**2\n",
        "\n",
        "#find error of this intregation\n",
        "avg_sum_sqaure=sum_sqaure/trials\n",
        "error=math.sqrt(avg_sum_sqaure-sum_sqaure/trials**2)/math.sqrt(trials)\n",
        "\n",
        "intregation= (sum/trial)*(b-a)\n",
        "print(intregation)\n",
        "print(\"error= \",error)\n",
        "plt.scatter(x_s,y_s)"
      ],
      "metadata": {
        "id": "ZNm0FyTZ5rfa",
        "outputId": "6613473a-f908-4741-dc72-11eab591c68a",
        "colab": {
          "base_uri": "https://localhost:8080/",
          "height": 320
        }
      },
      "execution_count": 17,
      "outputs": [
        {
          "output_type": "stream",
          "name": "stdout",
          "text": [
            "0.2917145193470667\n",
            "error=  0.3713667498296826\n"
          ]
        },
        {
          "output_type": "execute_result",
          "data": {
            "text/plain": [
              "<matplotlib.collections.PathCollection at 0x7f2dd3b5fd30>"
            ]
          },
          "metadata": {},
          "execution_count": 17
        },
        {
          "output_type": "display_data",
          "data": {
            "text/plain": [
              "<Figure size 432x288 with 1 Axes>"
            ],
            "image/png": "[encoded data removed]"
          },
          "metadata": {
            "needs_background": "light"
          }
        }
      ]
    },
    {
      "cell_type": "code",
      "source": [
        "import numpy as np\n",
        "import random\n",
        "import math\n",
        "import matplotlib.pyplot as plt\n",
        "\n",
        "len=12\n",
        "width=16\n",
        "\n",
        "radius=5 \n",
        "x_center=3\n",
        "y_center=1\n",
        "\n",
        "max_x=8\n",
        "min_x=-8\n",
        "\n",
        "max_y=6\n",
        "min_y=-6\n",
        "\n",
        "total_trial=1000000\n",
        "hit_count=0         \n",
        "miss_count=0\n",
        "\n",
        "hit_x=[]            \n",
        "hit_y=[]  \n",
        "\n",
        "miss_x=[]            \n",
        "miss_y=[] \n",
        "\n",
        "for i in range(total_trial):               \n",
        "    x=np.random.uniform(low=min_x,high=max_x,size=1)      \n",
        "    y=np.random.uniform(low=min_y,high=max_y,size=1) \n",
        "    xs=(x_center - x)*(x_center - x)\n",
        "    ys=(y_center -y)*(y_center - y)\n",
        "    txs=xs+ys\n",
        "    rdist=math.sqrt(txs)       \n",
        "    if  rdist<= radius:                       \n",
        "        hit_count=hit_count+1\n",
        "        hit_x.append(x)\n",
        "        hit_y.append(y)\n",
        "    else:\n",
        "        miss_cout=miss_count+1\n",
        "        miss_x.append(x)\n",
        "        miss_y.append(y)   \n",
        "\n",
        "r_s=(radius*radius)\n",
        "pr=(len*width*hit_count)/(r_s*total_trial)    \n",
        "print('the π value is: ',pr)              \n",
        "                 \n",
        "plt.scatter(hit_x, hit_y, c='blue')\n",
        "plt.scatter(miss_x,miss_y,c='green')"
      ],
      "metadata": {
        "id": "udVCrunenFjT",
        "colab": {
          "base_uri": "https://localhost:8080/",
          "height": 302
        },
        "outputId": "8a747799-4a0e-4083-f56a-4e79b4578560"
      },
      "execution_count": null,
      "outputs": [
        {
          "output_type": "stream",
          "name": "stdout",
          "text": [
            "the π value is:  3.14300928\n"
          ]
        },
        {
          "output_type": "execute_result",
          "data": {
            "text/plain": [
              "<matplotlib.collections.PathCollection at 0x7f1c67167ca0>"
            ]
          },
          "metadata": {},
          "execution_count": 1
        },
        {
          "output_type": "display_data",
          "data": {
            "text/plain": [
              "<Figure size 432x288 with 1 Axes>"
            ],
            "image/png": "[encoded data removed]"
          },
          "metadata": {
            "needs_background": "light"
          }
        }
      ]
    }
  ]
}